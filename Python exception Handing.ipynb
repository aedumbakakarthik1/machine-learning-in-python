{
 "cells": [
  {
   "cell_type": "markdown",
   "id": "f582e8ff",
   "metadata": {},
   "source": [
    "# Python Exception Handing\n"
   ]
  },
  {
   "cell_type": "raw",
   "id": "002df400",
   "metadata": {},
   "source": [
    "# what is means by error and exception \n",
    "Error can br corrected during the compilations of the source code or even runtim it can syntax rror or semantic error\n",
    "exception are caused during run time when the intepeter gt some unexpected data . they are handled usin try and execpt technique "
   ]
  },
  {
   "cell_type": "code",
   "execution_count": 3,
   "id": "2a775176",
   "metadata": {},
   "outputs": [],
   "source": [
    "a=10"
   ]
  },
  {
   "cell_type": "code",
   "execution_count": 4,
   "id": "0e1eb503",
   "metadata": {},
   "outputs": [],
   "source": [
    "# see the above code is correct because there is no code error are any error"
   ]
  },
  {
   "cell_type": "code",
   "execution_count": 5,
   "id": "1dc97542",
   "metadata": {},
   "outputs": [
    {
     "ename": "NameError",
     "evalue": "name 'b' is not defined",
     "output_type": "error",
     "traceback": [
      "\u001b[1;31m---------------------------------------------------------------------------\u001b[0m",
      "\u001b[1;31mNameError\u001b[0m                                 Traceback (most recent call last)",
      "Input \u001b[1;32mIn [5]\u001b[0m, in \u001b[0;36m<cell line: 2>\u001b[1;34m()\u001b[0m\n\u001b[0;32m      1\u001b[0m \u001b[38;5;66;03m#if i did like this\u001b[39;00m\n\u001b[1;32m----> 2\u001b[0m a\u001b[38;5;241m=\u001b[39m\u001b[43mb\u001b[49m\n",
      "\u001b[1;31mNameError\u001b[0m: name 'b' is not defined"
     ]
    }
   ],
   "source": [
    "#if i did like this\n",
    "a=b"
   ]
  },
  {
   "cell_type": "raw",
   "id": "03dd84a4",
   "metadata": {},
   "source": [
    "# see we got error as NameError: name 'b' is not defind \n",
    "yes we can understand tis error what about normal use who dont know about the coding he can not understand thois type of error so we need to use try and execpt logic"
   ]
  },
  {
   "cell_type": "code",
   "execution_count": 6,
   "id": "cd98bb24",
   "metadata": {},
   "outputs": [
    {
     "name": "stdout",
     "output_type": "stream",
     "text": [
      "some error we there we will resolve it soon\n"
     ]
    }
   ],
   "source": [
    "try:\n",
    "    # the code we need to try \n",
    "    a=b\n",
    "except:\n",
    "    print(\"some error we there we will resolve it soon\")"
   ]
  },
  {
   "cell_type": "code",
   "execution_count": 7,
   "id": "29bb9b8e",
   "metadata": {},
   "outputs": [],
   "source": [
    "# see now we didnot get any error and we get some messages by that the normal person will know about the ok some error we there"
   ]
  },
  {
   "cell_type": "code",
   "execution_count": 11,
   "id": "418d6813",
   "metadata": {},
   "outputs": [
    {
     "name": "stdout",
     "output_type": "stream",
     "text": [
      "name 'b' is not defined\n"
     ]
    }
   ],
   "source": [
    "# if we nedd very clearly \n",
    "try:\n",
    "    # the code we need to try \n",
    "    a=b\n",
    "except Exception as ex:\n",
    "    print(ex)"
   ]
  },
  {
   "cell_type": "code",
   "execution_count": 12,
   "id": "0d57f717",
   "metadata": {},
   "outputs": [
    {
     "name": "stdout",
     "output_type": "stream",
     "text": [
      "the user have not defined the variable\n"
     ]
    }
   ],
   "source": [
    "try:\n",
    "    # the code we need to try \n",
    "    a=b\n",
    "except NameError as ex1:\n",
    "    print(\"the user have not defined the variable\")\n",
    "except Exception as ex:\n",
    "    print(ex)"
   ]
  },
  {
   "cell_type": "code",
   "execution_count": 13,
   "id": "eb2d3b66",
   "metadata": {},
   "outputs": [
    {
     "name": "stdout",
     "output_type": "stream",
     "text": [
      "unsupported operand type(s) for +: 'int' and 'str'\n"
     ]
    }
   ],
   "source": [
    "try:\n",
    "    # the code we need to try \n",
    "    a=1\n",
    "    b=\"k\"\n",
    "    c=a+b\n",
    "except NameError as ex1:\n",
    "    print(\"the user have not defined the variable\")\n",
    "except Exception as ex:\n",
    "    print(ex)"
   ]
  },
  {
   "cell_type": "code",
   "execution_count": 14,
   "id": "1dc20787",
   "metadata": {},
   "outputs": [
    {
     "ename": "TypeError",
     "evalue": "unsupported operand type(s) for +: 'int' and 'str'",
     "output_type": "error",
     "traceback": [
      "\u001b[1;31m---------------------------------------------------------------------------\u001b[0m",
      "\u001b[1;31mTypeError\u001b[0m                                 Traceback (most recent call last)",
      "Input \u001b[1;32mIn [14]\u001b[0m, in \u001b[0;36m<cell line: 3>\u001b[1;34m()\u001b[0m\n\u001b[0;32m      1\u001b[0m a\u001b[38;5;241m=\u001b[39m\u001b[38;5;241m1\u001b[39m\n\u001b[0;32m      2\u001b[0m b\u001b[38;5;241m=\u001b[39m\u001b[38;5;124m\"\u001b[39m\u001b[38;5;124mk\u001b[39m\u001b[38;5;124m\"\u001b[39m\n\u001b[1;32m----> 3\u001b[0m c\u001b[38;5;241m=\u001b[39m\u001b[43ma\u001b[49m\u001b[38;5;241;43m+\u001b[39;49m\u001b[43mb\u001b[49m\n",
      "\u001b[1;31mTypeError\u001b[0m: unsupported operand type(s) for +: 'int' and 'str'"
     ]
    }
   ],
   "source": [
    "a=1\n",
    "b=\"k\"\n",
    "c=a+b   "
   ]
  },
  {
   "cell_type": "code",
   "execution_count": 15,
   "id": "9a7a5dc5",
   "metadata": {},
   "outputs": [
    {
     "name": "stdout",
     "output_type": "stream",
     "text": [
      "try to data type similar\n"
     ]
    }
   ],
   "source": [
    "try:\n",
    "    # the code we need to try \n",
    "    a=1\n",
    "    b=\"k\"\n",
    "    c=a+b\n",
    "except NameError as ex1:\n",
    "    print(\"the user have not defined the variable\")\n",
    "except TypeError as ex2:\n",
    "    print(\"try to data type similar\")\n",
    "    \n",
    "except Exception as ex:\n",
    "    print(ex)"
   ]
  },
  {
   "cell_type": "code",
   "execution_count": 2,
   "id": "afb7f7c4",
   "metadata": {},
   "outputs": [
    {
     "name": "stdout",
     "output_type": "stream",
     "text": [
      "enter number 1 :12\n",
      "enter number 2 :0\n"
     ]
    },
    {
     "ename": "NameError",
     "evalue": "name 'ex' is not defined",
     "output_type": "error",
     "traceback": [
      "\u001b[1;31m---------------------------------------------------------------------------\u001b[0m",
      "\u001b[1;31mZeroDivisionError\u001b[0m                         Traceback (most recent call last)",
      "Input \u001b[1;32mIn [2]\u001b[0m, in \u001b[0;36m<cell line: 1>\u001b[1;34m()\u001b[0m\n\u001b[0;32m      4\u001b[0m b\u001b[38;5;241m=\u001b[39m\u001b[38;5;28mint\u001b[39m(\u001b[38;5;28minput\u001b[39m(\u001b[38;5;124m\"\u001b[39m\u001b[38;5;124menter number 2 :\u001b[39m\u001b[38;5;124m\"\u001b[39m))\n\u001b[1;32m----> 5\u001b[0m c\u001b[38;5;241m=\u001b[39m\u001b[43ma\u001b[49m\u001b[38;5;241;43m/\u001b[39;49m\u001b[43mb\u001b[49m\n\u001b[0;32m      6\u001b[0m d\u001b[38;5;241m=\u001b[39ma\u001b[38;5;241m*\u001b[39mb\n",
      "\u001b[1;31mZeroDivisionError\u001b[0m: division by zero",
      "\nDuring handling of the above exception, another exception occurred:\n",
      "\u001b[1;31mNameError\u001b[0m                                 Traceback (most recent call last)",
      "Input \u001b[1;32mIn [2]\u001b[0m, in \u001b[0;36m<cell line: 1>\u001b[1;34m()\u001b[0m\n\u001b[0;32m     15\u001b[0m     \u001b[38;5;28mprint\u001b[39m(\u001b[38;5;124m\"\u001b[39m\u001b[38;5;124mtry to data type similar\u001b[39m\u001b[38;5;124m\"\u001b[39m)\n\u001b[0;32m     17\u001b[0m \u001b[38;5;28;01mexcept\u001b[39;00m \u001b[38;5;167;01mException\u001b[39;00m:\n\u001b[1;32m---> 18\u001b[0m     \u001b[38;5;28mprint\u001b[39m(\u001b[43mex\u001b[49m)\n",
      "\u001b[1;31mNameError\u001b[0m: name 'ex' is not defined"
     ]
    }
   ],
   "source": [
    "try:\n",
    "    # the code we need to try \n",
    "    a=int(input(\"enter number 1 :\"))\n",
    "    b=int(input(\"enter number 2 :\"))\n",
    "    c=a/b\n",
    "    d=a*b\n",
    "    e=a+b\n",
    "    print(c)\n",
    "    print(d)\n",
    "    print(e)\n",
    "    \n",
    "except NameError :\n",
    "    print(\"the user have not defined the variable\")\n",
    "except TypeError :\n",
    "    print(\"try to data type similar\")\n",
    "    \n",
    "except Exception:\n",
    "    print(ex)"
   ]
  },
  {
   "cell_type": "code",
   "execution_count": 4,
   "id": "17a0cf1a",
   "metadata": {},
   "outputs": [
    {
     "name": "stdout",
     "output_type": "stream",
     "text": [
      "enter number 1 :12\n",
      "enter number 2 :0\n",
      "enter number greater than 0\n",
      "the exection is done\n"
     ]
    }
   ],
   "source": [
    "try:\n",
    "    # the code we need to try \n",
    "    a=int(input(\"enter number 1 :\"))\n",
    "    b=int(input(\"enter number 2 :\"))\n",
    "    c=a/b\n",
    "    d=a*b\n",
    "    e=a+b\n",
    "    print(c)\n",
    "    print(d)\n",
    "    print(e)\n",
    "    \n",
    "except NameError :\n",
    "    print(\"the user have not defined the variable\")\n",
    "except TypeError :\n",
    "    print(\"try to data type similar\")\n",
    "except ZeroDivisionError:\n",
    "    print(\"enter number greater than 0\")\n",
    "    \n",
    "except Exception:\n",
    "    print(ex)\n",
    "    \n",
    "else :\n",
    "    print(c)\n",
    "finally:\n",
    "    print(\"the exection is done\")"
   ]
  },
  {
   "cell_type": "code",
   "execution_count": null,
   "id": "908fcda6",
   "metadata": {},
   "outputs": [],
   "source": []
  },
  {
   "cell_type": "code",
   "execution_count": null,
   "id": "ee204e13",
   "metadata": {},
   "outputs": [],
   "source": []
  },
  {
   "cell_type": "code",
   "execution_count": null,
   "id": "66c010bd",
   "metadata": {},
   "outputs": [],
   "source": []
  },
  {
   "cell_type": "code",
   "execution_count": null,
   "id": "ac1bbfa5",
   "metadata": {},
   "outputs": [],
   "source": []
  },
  {
   "cell_type": "markdown",
   "id": "83e92370",
   "metadata": {},
   "source": [
    "# Custom Exception"
   ]
  },
  {
   "cell_type": "raw",
   "id": "c79d57ba",
   "metadata": {},
   "source": [
    "suppose w wil need to create a webite to apply a job but in that we have the \n",
    "condition that your age should be 20- 35 only "
   ]
  },
  {
   "cell_type": "code",
   "execution_count": 2,
   "id": "4433ea81",
   "metadata": {},
   "outputs": [],
   "source": [
    "class Error(Exception):\n",
    "    pass\n",
    "class dobException(Error):\n",
    "    pass"
   ]
  },
  {
   "cell_type": "code",
   "execution_count": 6,
   "id": "4b5a0e88",
   "metadata": {},
   "outputs": [
    {
     "name": "stdout",
     "output_type": "stream",
     "text": [
      "enter the year of birth :2001\n",
      "you can apply for this job\n"
     ]
    }
   ],
   "source": [
    "year = int(input(\"enter the year of birth :\"))\n",
    "age=2022 - year\n",
    "# 2022 is current year we aare now\n",
    "try : \n",
    "    if age<35 and age >20:\n",
    "        print(\"you can apply for this job\")\n",
    "    else :\n",
    "        raise dobException\n",
    "except dobException:\n",
    "    print(\"your year group was not for this job\")"
   ]
  },
  {
   "cell_type": "code",
   "execution_count": 3,
   "id": "2e017c45",
   "metadata": {},
   "outputs": [
    {
     "name": "stdout",
     "output_type": "stream",
     "text": [
      "enter the year of birth :1975\n",
      "your year group was not for this job\n"
     ]
    }
   ],
   "source": [
    "year = int(input(\"enter the year of birth :\"))\n",
    "age=2022 - year\n",
    "# 2022 is current year we aare now\n",
    "try : \n",
    "    if age<35 and age >20:\n",
    "        print(\"you can apply for this job\")\n",
    "    else :\n",
    "        raise dobException\n",
    "except dobException:\n",
    "    print(\"your year group was not for this job\")"
   ]
  },
  {
   "cell_type": "code",
   "execution_count": null,
   "id": "94ec3386",
   "metadata": {},
   "outputs": [],
   "source": []
  },
  {
   "cell_type": "code",
   "execution_count": null,
   "id": "e2b4700c",
   "metadata": {},
   "outputs": [],
   "source": []
  }
 ],
 "metadata": {
  "kernelspec": {
   "display_name": "Python 3 (ipykernel)",
   "language": "python",
   "name": "python3"
  },
  "language_info": {
   "codemirror_mode": {
    "name": "ipython",
    "version": 3
   },
   "file_extension": ".py",
   "mimetype": "text/x-python",
   "name": "python",
   "nbconvert_exporter": "python",
   "pygments_lexer": "ipython3",
   "version": "3.9.12"
  }
 },
 "nbformat": 4,
 "nbformat_minor": 5
}
