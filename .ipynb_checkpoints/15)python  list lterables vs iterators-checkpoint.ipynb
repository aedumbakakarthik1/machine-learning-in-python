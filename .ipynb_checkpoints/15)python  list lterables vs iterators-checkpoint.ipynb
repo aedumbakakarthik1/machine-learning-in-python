{
 "cells": [
  {
   "cell_type": "markdown",
   "id": "91c9bdb7",
   "metadata": {},
   "source": [
    "# Python list iterables vs Iterators"
   ]
  },
  {
   "cell_type": "code",
   "execution_count": 2,
   "id": "5e9b0b10",
   "metadata": {},
   "outputs": [
    {
     "name": "stdout",
     "output_type": "stream",
     "text": [
      "1\n",
      "2\n",
      "3\n",
      "4\n",
      "5\n",
      "6\n",
      "7\n",
      "8\n",
      "9\n"
     ]
    }
   ],
   "source": [
    "# list is a iterable\n",
    "\n",
    "lst=[1,2,3,4,5,6,7,8,9]\n",
    "for i in lst:\n",
    "    print(i)"
   ]
  },
  {
   "cell_type": "markdown",
   "id": "4e0c94ae",
   "metadata": {},
   "source": [
    "- see the main thing in iterable is if u crate a list in python and do a for loop it will automatly stored in th memory in iterable"
   ]
  },
  {
   "cell_type": "code",
   "execution_count": 3,
   "id": "4e3de83f",
   "metadata": {},
   "outputs": [],
   "source": [
    "# for iterator\n",
    "# if you want to crate a iterator  w need to use the iter()\n",
    "lst1=iter(lst)"
   ]
  },
  {
   "cell_type": "code",
   "execution_count": 4,
   "id": "a11411d8",
   "metadata": {},
   "outputs": [
    {
     "data": {
      "text/plain": [
       "<list_iterator at 0x20960c1f190>"
      ]
     },
     "execution_count": 4,
     "metadata": {},
     "output_type": "execute_result"
    }
   ],
   "source": [
    "lst1"
   ]
  },
  {
   "cell_type": "raw",
   "id": "8f3193af",
   "metadata": {},
   "source": [
    "see in about it was create but if we are calling that variable it was not showing the elements in the list but it was showing the address of it"
   ]
  },
  {
   "cell_type": "code",
   "execution_count": 5,
   "id": "9cdb63ec",
   "metadata": {},
   "outputs": [
    {
     "data": {
      "text/plain": [
       "1"
      ]
     },
     "execution_count": 5,
     "metadata": {},
     "output_type": "execute_result"
    }
   ],
   "source": [
    "# to show the value of the list we need to use the next()\n",
    "next(lst1)"
   ]
  },
  {
   "cell_type": "markdown",
   "id": "12b061fb",
   "metadata": {},
   "source": [
    "- se w got only 1st value in the list . yes , if we use the next function in iterator we get only 1 element if we get the anext element we ned to use the again next function \n"
   ]
  },
  {
   "cell_type": "code",
   "execution_count": 6,
   "id": "aa1a76cb",
   "metadata": {},
   "outputs": [
    {
     "data": {
      "text/plain": [
       "2"
      ]
     },
     "execution_count": 6,
     "metadata": {},
     "output_type": "execute_result"
    }
   ],
   "source": [
    "next(lst1)"
   ]
  },
  {
   "cell_type": "code",
   "execution_count": 7,
   "id": "6a2c4569",
   "metadata": {},
   "outputs": [
    {
     "name": "stdout",
     "output_type": "stream",
     "text": [
      "3\n",
      "4\n",
      "5\n",
      "6\n",
      "7\n",
      "8\n",
      "9\n"
     ]
    }
   ],
   "source": [
    "# now the promblem is if we need to gt all the values in the lst in itertor we can use the for loop also\n",
    "for i in lst1:\n",
    "    print(i)"
   ]
  },
  {
   "cell_type": "markdown",
   "id": "2ad27f69",
   "metadata": {},
   "source": [
    "- see now if we uses the for loop also w get from 3rd element in list ,because while we are use the for-loop for lst1 we already print 1st two element by usiung thr nxt fuction rigth.....\n",
    "so that we are getting from the 3rd element in the list"
   ]
  },
  {
   "cell_type": "code",
   "execution_count": null,
   "id": "e86a70e5",
   "metadata": {},
   "outputs": [],
   "source": []
  }
 ],
 "metadata": {
  "kernelspec": {
   "display_name": "Python 3 (ipykernel)",
   "language": "python",
   "name": "python3"
  },
  "language_info": {
   "codemirror_mode": {
    "name": "ipython",
    "version": 3
   },
   "file_extension": ".py",
   "mimetype": "text/x-python",
   "name": "python",
   "nbconvert_exporter": "python",
   "pygments_lexer": "ipython3",
   "version": "3.9.12"
  }
 },
 "nbformat": 4,
 "nbformat_minor": 5
}
