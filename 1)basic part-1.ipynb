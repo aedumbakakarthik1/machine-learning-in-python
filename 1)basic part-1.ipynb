{
 "cells": [
  {
   "cell_type": "markdown",
   "id": "9a93382a",
   "metadata": {},
   "source": [
    "# Basic of Python\n",
    "\n",
    ". various Datatypes\n",
    "\n",
    ". variables \n",
    "\n",
    ". variables Assigment\n",
    "\n",
    ". print function\n"
   ]
  },
  {
   "cell_type": "markdown",
   "id": "2ef6bc29",
   "metadata": {},
   "source": [
    "# various datatypes in python\n",
    "\n",
    "# numbers"
   ]
  },
  {
   "cell_type": "code",
   "execution_count": 1,
   "id": "10a8947b",
   "metadata": {},
   "outputs": [
    {
     "data": {
      "text/plain": [
       "2"
      ]
     },
     "execution_count": 1,
     "metadata": {},
     "output_type": "execute_result"
    }
   ],
   "source": [
    "1+1\n"
   ]
  },
  {
   "cell_type": "code",
   "execution_count": 2,
   "id": "17df3dd1",
   "metadata": {},
   "outputs": [
    {
     "data": {
      "text/plain": [
       "28"
      ]
     },
     "execution_count": 2,
     "metadata": {},
     "output_type": "execute_result"
    }
   ],
   "source": [
    "4*7"
   ]
  },
  {
   "cell_type": "code",
   "execution_count": 3,
   "id": "3e868123",
   "metadata": {},
   "outputs": [
    {
     "data": {
      "text/plain": [
       "-1"
      ]
     },
     "execution_count": 3,
     "metadata": {},
     "output_type": "execute_result"
    }
   ],
   "source": [
    "8-9"
   ]
  },
  {
   "cell_type": "code",
   "execution_count": 4,
   "id": "a4860aa9",
   "metadata": {},
   "outputs": [
    {
     "data": {
      "text/plain": [
       "9"
      ]
     },
     "execution_count": 4,
     "metadata": {},
     "output_type": "execute_result"
    }
   ],
   "source": [
    "3**2"
   ]
  },
  {
   "cell_type": "code",
   "execution_count": 5,
   "id": "6ccd224f",
   "metadata": {},
   "outputs": [],
   "source": [
    "# chaeck the data types"
   ]
  },
  {
   "cell_type": "code",
   "execution_count": 6,
   "id": "f15e9690",
   "metadata": {},
   "outputs": [
    {
     "data": {
      "text/plain": [
       "int"
      ]
     },
     "execution_count": 6,
     "metadata": {},
     "output_type": "execute_result"
    }
   ],
   "source": [
    "type(1)"
   ]
  },
  {
   "cell_type": "code",
   "execution_count": 7,
   "id": "0dcab8c8",
   "metadata": {},
   "outputs": [
    {
     "data": {
      "text/plain": [
       "float"
      ]
     },
     "execution_count": 7,
     "metadata": {},
     "output_type": "execute_result"
    }
   ],
   "source": [
    "type(9.9)"
   ]
  },
  {
   "cell_type": "code",
   "execution_count": 8,
   "id": "fedf5432",
   "metadata": {},
   "outputs": [
    {
     "data": {
      "text/plain": [
       "str"
      ]
     },
     "execution_count": 8,
     "metadata": {},
     "output_type": "execute_result"
    }
   ],
   "source": [
    "type(\"karthik\")"
   ]
  },
  {
   "cell_type": "code",
   "execution_count": 9,
   "id": "9055f399",
   "metadata": {},
   "outputs": [
    {
     "data": {
      "text/plain": [
       "tuple"
      ]
     },
     "execution_count": 9,
     "metadata": {},
     "output_type": "execute_result"
    }
   ],
   "source": [
    "type((1,4))"
   ]
  },
  {
   "cell_type": "code",
   "execution_count": 10,
   "id": "f7abdffd",
   "metadata": {},
   "outputs": [
    {
     "data": {
      "text/plain": [
       "bool"
      ]
     },
     "execution_count": 10,
     "metadata": {},
     "output_type": "execute_result"
    }
   ],
   "source": [
    "type(True)"
   ]
  },
  {
   "cell_type": "markdown",
   "id": "89c41f3e",
   "metadata": {},
   "source": [
    "# string"
   ]
  },
  {
   "cell_type": "code",
   "execution_count": 11,
   "id": "56374a92",
   "metadata": {},
   "outputs": [
    {
     "data": {
      "text/plain": [
       "'hello'"
      ]
     },
     "execution_count": 11,
     "metadata": {},
     "output_type": "execute_result"
    }
   ],
   "source": [
    "\"hello\""
   ]
  },
  {
   "cell_type": "code",
   "execution_count": 12,
   "id": "74eec796",
   "metadata": {},
   "outputs": [
    {
     "data": {
      "text/plain": [
       "'hello'"
      ]
     },
     "execution_count": 12,
     "metadata": {},
     "output_type": "execute_result"
    }
   ],
   "source": [
    "'hello'"
   ]
  },
  {
   "cell_type": "markdown",
   "id": "af4a18b6",
   "metadata": {},
   "source": [
    "# variable assigment"
   ]
  },
  {
   "cell_type": "raw",
   "id": "7db3cebc",
   "metadata": {},
   "source": [
    "variable is nothing but it a storing container \n"
   ]
  },
  {
   "cell_type": "code",
   "execution_count": 13,
   "id": "ac479420",
   "metadata": {},
   "outputs": [],
   "source": [
    "#syntax\n",
    "# var_name =values\n",
    "\n",
    "a=18"
   ]
  },
  {
   "cell_type": "code",
   "execution_count": 14,
   "id": "f602ee9a",
   "metadata": {},
   "outputs": [
    {
     "data": {
      "text/plain": [
       "int"
      ]
     },
     "execution_count": 14,
     "metadata": {},
     "output_type": "execute_result"
    }
   ],
   "source": [
    "type(a)"
   ]
  },
  {
   "cell_type": "code",
   "execution_count": 15,
   "id": "c2547b67",
   "metadata": {},
   "outputs": [],
   "source": [
    "a=\"karthik aedumbaka\""
   ]
  },
  {
   "cell_type": "code",
   "execution_count": 16,
   "id": "0bd7edd4",
   "metadata": {},
   "outputs": [
    {
     "data": {
      "text/plain": [
       "str"
      ]
     },
     "execution_count": 16,
     "metadata": {},
     "output_type": "execute_result"
    }
   ],
   "source": [
    "type(a)"
   ]
  },
  {
   "cell_type": "code",
   "execution_count": 17,
   "id": "a545d794",
   "metadata": {},
   "outputs": [],
   "source": [
    "# mathematics operation with variable assigment\n",
    "\n",
    "a=10\n",
    "b=20"
   ]
  },
  {
   "cell_type": "code",
   "execution_count": 18,
   "id": "d80d02e5",
   "metadata": {},
   "outputs": [
    {
     "name": "stdout",
     "output_type": "stream",
     "text": [
      "200\n",
      "0.5\n",
      "10\n",
      "30\n",
      "200.5\n"
     ]
    }
   ],
   "source": [
    "print(a*b)\n",
    "print(a/b)\n",
    "print(a%b)\n",
    "print(a+b)\n",
    "print((a*b)+(a/b))  #BODMAS"
   ]
  },
  {
   "cell_type": "code",
   "execution_count": 19,
   "id": "a8f7096d",
   "metadata": {},
   "outputs": [
    {
     "name": "stdout",
     "output_type": "stream",
     "text": [
      "karthik\n"
     ]
    }
   ],
   "source": [
    "#various way of print\n",
    "\n",
    "print(\"karthik\")"
   ]
  },
  {
   "cell_type": "code",
   "execution_count": 20,
   "id": "fa67ef19",
   "metadata": {},
   "outputs": [],
   "source": [
    "first_name=\"karthik\"\n",
    "last_name=\"aedumbaka\"\n"
   ]
  },
  {
   "cell_type": "code",
   "execution_count": 21,
   "id": "4b0decc6",
   "metadata": {},
   "outputs": [
    {
     "name": "stdout",
     "output_type": "stream",
     "text": [
      "my first name is karthik and last name aedumbaka\n"
     ]
    }
   ],
   "source": [
    "print(\"my first name is {} and last name {}\".format(first_name,last_name))"
   ]
  },
  {
   "cell_type": "code",
   "execution_count": 22,
   "id": "d049c8ef",
   "metadata": {},
   "outputs": [
    {
     "name": "stdout",
     "output_type": "stream",
     "text": [
      " my first anme is karthik and last name aedumbaka\n"
     ]
    }
   ],
   "source": [
    "print(\" my first anme is {first} and last name {last}\".format(first=first_name,last=last_name))"
   ]
  },
  {
   "cell_type": "code",
   "execution_count": 23,
   "id": "c2c771a6",
   "metadata": {},
   "outputs": [
    {
     "data": {
      "text/plain": [
       "7"
      ]
     },
     "execution_count": 23,
     "metadata": {},
     "output_type": "execute_result"
    }
   ],
   "source": [
    "#to know thw length of thr string \n",
    "\n",
    "len(\"karthik\")"
   ]
  },
  {
   "cell_type": "code",
   "execution_count": null,
   "id": "8782aaf4",
   "metadata": {},
   "outputs": [],
   "source": []
  }
 ],
 "metadata": {
  "kernelspec": {
   "display_name": "Python 3",
   "language": "python",
   "name": "python3"
  },
  "language_info": {
   "codemirror_mode": {
    "name": "ipython",
    "version": 3
   },
   "file_extension": ".py",
   "mimetype": "text/x-python",
   "name": "python",
   "nbconvert_exporter": "python",
   "pygments_lexer": "ipython3",
   "version": "3.6.13"
  }
 },
 "nbformat": 4,
 "nbformat_minor": 5
}
