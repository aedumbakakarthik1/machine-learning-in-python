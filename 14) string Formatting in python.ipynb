{
 "cells": [
  {
   "cell_type": "markdown",
   "id": "81e197b4",
   "metadata": {},
   "source": [
    "# String formatting in python\n"
   ]
  },
  {
   "cell_type": "code",
   "execution_count": 2,
   "id": "6dd1686b",
   "metadata": {},
   "outputs": [
    {
     "name": "stdout",
     "output_type": "stream",
     "text": [
      "hello karthik\n"
     ]
    }
   ],
   "source": [
    "print(\"hello karthik\")\\\n",
    "# this is the normal way that we are printing the string"
   ]
  },
  {
   "cell_type": "code",
   "execution_count": 4,
   "id": "efe14f84",
   "metadata": {},
   "outputs": [
    {
     "data": {
      "text/plain": [
       "'hello karthik , welcome  to nw world'"
      ]
     },
     "execution_count": 4,
     "metadata": {},
     "output_type": "execute_result"
    }
   ],
   "source": [
    "# now if we want to to print the string in dynamic  way \n",
    "# we use the string formatting method\n",
    "\n",
    "def greeting(name):\n",
    "    return \"hello {} , welcome  to nw world\".format(name)\n",
    "greeting(\"karthik\")"
   ]
  },
  {
   "cell_type": "code",
   "execution_count": 9,
   "id": "d37794b6",
   "metadata": {},
   "outputs": [
    {
     "data": {
      "text/plain": [
       "'hello karthik adumbaka, welcome to new world'"
      ]
     },
     "execution_count": 9,
     "metadata": {},
     "output_type": "execute_result"
    }
   ],
   "source": [
    "#now if we have 2 input \n",
    "\n",
    "def greething(first_name,last_name):\n",
    "    return \"hello {} {}, welcome to new world\".format(last_name,first_name)\n",
    "greething(\"adumbaka\",\"karthik\")\n",
    "\n",
    "# if we se it carefull in ( ) and { } w can see the first {} in for first varibles in () and 2rd {} is for 2()"
   ]
  },
  {
   "cell_type": "markdown",
   "id": "8e3dc09e",
   "metadata": {},
   "source": [
    "- if w change the places what what happen lets it"
   ]
  },
  {
   "cell_type": "code",
   "execution_count": 10,
   "id": "537902da",
   "metadata": {},
   "outputs": [
    {
     "data": {
      "text/plain": [
       "'hello adumbaka karthik, welcome to new world'"
      ]
     },
     "execution_count": 10,
     "metadata": {},
     "output_type": "execute_result"
    }
   ],
   "source": [
    "def greething(first_name,last_name):\n",
    "    return \"hello {} {}, welcome to new world\".format(first_name,last_name)\n",
    "greething(\"adumbaka\",\"karthik\")"
   ]
  },
  {
   "cell_type": "markdown",
   "id": "424d04f5",
   "metadata": {},
   "source": [
    "- see the position was changed \n",
    "to avoid this this we use temp variable\n"
   ]
  },
  {
   "cell_type": "code",
   "execution_count": 14,
   "id": "47decc8f",
   "metadata": {},
   "outputs": [
    {
     "name": "stdout",
     "output_type": "stream",
     "text": [
      "hello karthik aedumbkaka, welcome to new world\n",
      "hello adumbaka karthik, welcome to new world\n"
     ]
    }
   ],
   "source": [
    "def greething(first_name,last_name):\n",
    "    return \"hello {name1} {name2}, welcome to new world\".format(name1=first_name,name2=last_name)\n",
    "print(greething(\"karthik\",\"aedumbkaka\"))\n",
    "print(greething(\"adumbaka\",\"karthik\"))"
   ]
  },
  {
   "cell_type": "code",
   "execution_count": null,
   "id": "7d6b2d6c",
   "metadata": {},
   "outputs": [],
   "source": []
  }
 ],
 "metadata": {
  "kernelspec": {
   "display_name": "Python 3 (ipykernel)",
   "language": "python",
   "name": "python3"
  },
  "language_info": {
   "codemirror_mode": {
    "name": "ipython",
    "version": 3
   },
   "file_extension": ".py",
   "mimetype": "text/x-python",
   "name": "python",
   "nbconvert_exporter": "python",
   "pygments_lexer": "ipython3",
   "version": "3.9.12"
  }
 },
 "nbformat": 4,
 "nbformat_minor": 5
}
