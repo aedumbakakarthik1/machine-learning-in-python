{
 "cells": [
  {
   "cell_type": "markdown",
   "id": "93118ba3",
   "metadata": {},
   "source": [
    "# python data stuctures and boolean\n",
    "\n",
    "### . Boolean\n",
    "## . boolean and logial operators\n",
    "## . list \n",
    "## . comparison operators\n",
    "## . dicitonaries\n",
    "## . sets\n",
    "## . tuples\n",
    "\n"
   ]
  },
  {
   "cell_type": "code",
   "execution_count": 1,
   "id": "eebd9868",
   "metadata": {},
   "outputs": [],
   "source": [
    "## booean variables"
   ]
  },
  {
   "cell_type": "raw",
   "id": "11fc760b",
   "metadata": {},
   "source": [
    " Boolean values are the two constant object False and True\n",
    " \n",
    " They are used to represent truth values (other values can also be considered false and true)\n",
    " \n",
    " In numeric contexts (for example, when used as the argumnt to an arithmetic operator ), they behave like intergers 0 and 1 , respectively\n",
    " \n",
    " the built-in function bool() can used to cast value to Boolearn , if the values can br interpreted as a truth value"
   ]
  },
  {
   "cell_type": "code",
   "execution_count": 1,
   "id": "6c8384ab",
   "metadata": {},
   "outputs": [
    {
     "data": {
      "text/plain": [
       "False"
      ]
     },
     "execution_count": 1,
     "metadata": {},
     "output_type": "execute_result"
    }
   ],
   "source": [
    "False\n"
   ]
  },
  {
   "cell_type": "code",
   "execution_count": 2,
   "id": "f7c0a2b2",
   "metadata": {},
   "outputs": [
    {
     "data": {
      "text/plain": [
       "bool"
      ]
     },
     "execution_count": 2,
     "metadata": {},
     "output_type": "execute_result"
    }
   ],
   "source": [
    "type(True)"
   ]
  },
  {
   "cell_type": "code",
   "execution_count": 12,
   "id": "7ef39c52",
   "metadata": {},
   "outputs": [],
   "source": [
    "my_str=\"karthik aedumbaka\""
   ]
  },
  {
   "cell_type": "code",
   "execution_count": 13,
   "id": "78f8c35a",
   "metadata": {},
   "outputs": [
    {
     "data": {
      "text/plain": [
       "b'karthik aedumbaka'"
      ]
     },
     "execution_count": 13,
     "metadata": {},
     "output_type": "execute_result"
    }
   ],
   "source": [
    "my_str.encode()"
   ]
  },
  {
   "cell_type": "code",
   "execution_count": 14,
   "id": "c0b764f7",
   "metadata": {},
   "outputs": [
    {
     "name": "stdout",
     "output_type": "stream",
     "text": [
      "karthik aedumbaka\n"
     ]
    }
   ],
   "source": [
    "print(my_str)"
   ]
  },
  {
   "cell_type": "code",
   "execution_count": 16,
   "id": "6a0aa6e3",
   "metadata": {},
   "outputs": [
    {
     "name": "stdout",
     "output_type": "stream",
     "text": [
      "False\n",
      "False\n",
      "False\n",
      "False\n",
      "False\n",
      "True\n",
      "False\n",
      "True\n",
      "True\n"
     ]
    }
   ],
   "source": [
    "print(my_str.isalnum())   #check if all char are numbers\n",
    "print(my_str.isalpha())  #check if all char in the string are alphabetic\n",
    "print(my_str.isdigit())   #test if string contains digits\n",
    "print(my_str.istitle())   #test if string contaains title word\n",
    "print(my_str.isupper())   #test if contains upper caase\n",
    "print(my_str.islower())   #test if string contains the lower case\n",
    "print(my_str.isspace())    #test if string contains space\n",
    "print(my_str.endswith(\"a\"))  #test is string ends with letter \"a\"\n",
    "print(my_str.startswith(\"k\")) #test if string starts with letter \"k\""
   ]
  },
  {
   "cell_type": "markdown",
   "id": "e8faa578",
   "metadata": {},
   "source": [
    "# Boolean and logical operators"
   ]
  },
  {
   "cell_type": "code",
   "execution_count": 17,
   "id": "61b8e6df",
   "metadata": {},
   "outputs": [
    {
     "data": {
      "text/plain": [
       "True"
      ]
     },
     "execution_count": 17,
     "metadata": {},
     "output_type": "execute_result"
    }
   ],
   "source": [
    "True and True"
   ]
  },
  {
   "cell_type": "code",
   "execution_count": 18,
   "id": "f0847c15",
   "metadata": {},
   "outputs": [
    {
     "data": {
      "text/plain": [
       "False"
      ]
     },
     "execution_count": 18,
     "metadata": {},
     "output_type": "execute_result"
    }
   ],
   "source": [
    "True and False"
   ]
  },
  {
   "cell_type": "code",
   "execution_count": 19,
   "id": "92aa88fc",
   "metadata": {},
   "outputs": [
    {
     "data": {
      "text/plain": [
       "True"
      ]
     },
     "execution_count": 19,
     "metadata": {},
     "output_type": "execute_result"
    }
   ],
   "source": [
    "True or False"
   ]
  },
  {
   "cell_type": "code",
   "execution_count": 23,
   "id": "e1d975f5",
   "metadata": {},
   "outputs": [
    {
     "data": {
      "text/plain": [
       "-1"
      ]
     },
     "execution_count": 23,
     "metadata": {},
     "output_type": "execute_result"
    }
   ],
   "source": [
    "~(True and False)"
   ]
  },
  {
   "cell_type": "code",
   "execution_count": 24,
   "id": "711518af",
   "metadata": {},
   "outputs": [],
   "source": [
    "first_name=\"karthik\"\n",
    "last_name =\"aedumbaka\"\n"
   ]
  },
  {
   "cell_type": "code",
   "execution_count": 25,
   "id": "83c94661",
   "metadata": {},
   "outputs": [
    {
     "data": {
      "text/plain": [
       "True"
      ]
     },
     "execution_count": 25,
     "metadata": {},
     "output_type": "execute_result"
    }
   ],
   "source": [
    "first_name.isalpha() or last_name.isnum()"
   ]
  },
  {
   "cell_type": "markdown",
   "id": "40e07735",
   "metadata": {},
   "source": [
    "# list"
   ]
  },
  {
   "cell_type": "raw",
   "id": "4011c9fc",
   "metadata": {},
   "source": [
    "A list is a data structure in Python that is a mutable , or changeable , ordered squence of elements. Eash element or value that inside of the list is called an item . Just as wtring are defined as characters between quates, list are defined by defined by having values between square brackets []"
   ]
  },
  {
   "cell_type": "code",
   "execution_count": 28,
   "id": "cb2f7fef",
   "metadata": {},
   "outputs": [],
   "source": [
    "lst_exp=[]"
   ]
  },
  {
   "cell_type": "code",
   "execution_count": 29,
   "id": "019b98b2",
   "metadata": {},
   "outputs": [
    {
     "data": {
      "text/plain": [
       "list"
      ]
     },
     "execution_count": 29,
     "metadata": {},
     "output_type": "execute_result"
    }
   ],
   "source": [
    "type(lst_exp)"
   ]
  },
  {
   "cell_type": "code",
   "execution_count": 30,
   "id": "cf277b74",
   "metadata": {},
   "outputs": [
    {
     "data": {
      "text/plain": [
       "list"
      ]
     },
     "execution_count": 30,
     "metadata": {},
     "output_type": "execute_result"
    }
   ],
   "source": [
    "lst=list()\n",
    "type(lst)"
   ]
  },
  {
   "cell_type": "code",
   "execution_count": 31,
   "id": "959f2f9f",
   "metadata": {},
   "outputs": [],
   "source": [
    "lst=[\"maths\",\"chemistry \",\"karthik\",\"ml\",11334,6543]"
   ]
  },
  {
   "cell_type": "code",
   "execution_count": 32,
   "id": "66a4225b",
   "metadata": {},
   "outputs": [
    {
     "data": {
      "text/plain": [
       "6"
      ]
     },
     "execution_count": 32,
     "metadata": {},
     "output_type": "execute_result"
    }
   ],
   "source": [
    "len(lst)"
   ]
  },
  {
   "cell_type": "markdown",
   "id": "6ed72427",
   "metadata": {},
   "source": [
    "# append"
   ]
  },
  {
   "cell_type": "code",
   "execution_count": 33,
   "id": "930061e5",
   "metadata": {},
   "outputs": [],
   "source": [
    "#append is used add element in the list\n",
    "lst.append(\"balaji\")"
   ]
  },
  {
   "cell_type": "code",
   "execution_count": null,
   "id": "51e88301",
   "metadata": {},
   "outputs": [],
   "source": []
  },
  {
   "cell_type": "code",
   "execution_count": 35,
   "id": "ce40d630",
   "metadata": {},
   "outputs": [
    {
     "data": {
      "text/plain": [
       "'ml'"
      ]
     },
     "execution_count": 35,
     "metadata": {},
     "output_type": "execute_result"
    }
   ],
   "source": [
    "#indexing in list\n",
    "lst[3]"
   ]
  },
  {
   "cell_type": "code",
   "execution_count": 36,
   "id": "8b9ddca1",
   "metadata": {},
   "outputs": [
    {
     "data": {
      "text/plain": [
       "['karthik', 'ml', 11334, 6543, 'balaji']"
      ]
     },
     "execution_count": 36,
     "metadata": {},
     "output_type": "execute_result"
    }
   ],
   "source": [
    "lst[2:]"
   ]
  },
  {
   "cell_type": "code",
   "execution_count": null,
   "id": "ad3bd873",
   "metadata": {},
   "outputs": [],
   "source": []
  },
  {
   "cell_type": "code",
   "execution_count": 34,
   "id": "c655764e",
   "metadata": {},
   "outputs": [
    {
     "data": {
      "text/plain": [
       "['maths', 'chemistry ', 'karthik', 'ml', 11334, 6543, 'balaji']"
      ]
     },
     "execution_count": 34,
     "metadata": {},
     "output_type": "execute_result"
    }
   ],
   "source": [
    "lst"
   ]
  },
  {
   "cell_type": "code",
   "execution_count": 38,
   "id": "2cf96d9c",
   "metadata": {},
   "outputs": [
    {
     "data": {
      "text/plain": [
       "['maths',\n",
       " 'chemistry ',\n",
       " 'karthik',\n",
       " 'ml',\n",
       " 11334,\n",
       " 6543,\n",
       " 'balaji',\n",
       " ['narayana', 'kgf'],\n",
       " ['narayana', 'kgf']]"
      ]
     },
     "execution_count": 38,
     "metadata": {},
     "output_type": "execute_result"
    }
   ],
   "source": [
    "lst.append([\"narayana\",\"kgf\"])\n",
    "\n",
    "lst.append([\"narayana\",\"kgf\"])\n",
    "lst"
   ]
  },
  {
   "cell_type": "code",
   "execution_count": null,
   "id": "b631feb7",
   "metadata": {},
   "outputs": [],
   "source": []
  },
  {
   "cell_type": "markdown",
   "id": "ba38cedb",
   "metadata": {},
   "source": [
    "# insert"
   ]
  },
  {
   "cell_type": "code",
   "execution_count": 39,
   "id": "ba9fee32",
   "metadata": {},
   "outputs": [],
   "source": [
    "# insert in a specific order\n",
    "lst.insert(3,\"pandi\")"
   ]
  },
  {
   "cell_type": "code",
   "execution_count": 40,
   "id": "6d26afa3",
   "metadata": {},
   "outputs": [
    {
     "data": {
      "text/plain": [
       "['maths',\n",
       " 'chemistry ',\n",
       " 'karthik',\n",
       " 'pandi',\n",
       " 'ml',\n",
       " 11334,\n",
       " 6543,\n",
       " 'balaji',\n",
       " ['narayana', 'kgf'],\n",
       " ['narayana', 'kgf']]"
      ]
     },
     "execution_count": 40,
     "metadata": {},
     "output_type": "execute_result"
    }
   ],
   "source": [
    "lst"
   ]
  },
  {
   "cell_type": "markdown",
   "id": "ecc79378",
   "metadata": {},
   "source": [
    "# Extend Method"
   ]
  },
  {
   "cell_type": "code",
   "execution_count": 41,
   "id": "c37c5144",
   "metadata": {},
   "outputs": [],
   "source": [
    "lst=[1,2,3,4,5,6,7,8,9]"
   ]
  },
  {
   "cell_type": "code",
   "execution_count": 42,
   "id": "fdf02df2",
   "metadata": {},
   "outputs": [],
   "source": [
    "lst.extend([11,44])"
   ]
  },
  {
   "cell_type": "code",
   "execution_count": 43,
   "id": "dc03dbe3",
   "metadata": {},
   "outputs": [
    {
     "data": {
      "text/plain": [
       "[1, 2, 3, 4, 5, 6, 7, 8, 9, 11, 44]"
      ]
     },
     "execution_count": 43,
     "metadata": {},
     "output_type": "execute_result"
    }
   ],
   "source": [
    "lst"
   ]
  },
  {
   "cell_type": "markdown",
   "id": "f7eb88b1",
   "metadata": {},
   "source": [
    "# Varoius Operations that we can perfrom in list"
   ]
  },
  {
   "cell_type": "code",
   "execution_count": 44,
   "id": "0565ba0c",
   "metadata": {},
   "outputs": [],
   "source": [
    "lst=[1,2,3,4,5]"
   ]
  },
  {
   "cell_type": "code",
   "execution_count": 45,
   "id": "e0f9add1",
   "metadata": {},
   "outputs": [
    {
     "data": {
      "text/plain": [
       "15"
      ]
     },
     "execution_count": 45,
     "metadata": {},
     "output_type": "execute_result"
    }
   ],
   "source": [
    "sum(lst)"
   ]
  },
  {
   "cell_type": "markdown",
   "id": "7c7a5b0c",
   "metadata": {},
   "source": [
    "# Pop() Method"
   ]
  },
  {
   "cell_type": "code",
   "execution_count": 47,
   "id": "9d4a03ec",
   "metadata": {},
   "outputs": [
    {
     "data": {
      "text/plain": [
       "5"
      ]
     },
     "execution_count": 47,
     "metadata": {},
     "output_type": "execute_result"
    }
   ],
   "source": [
    "lst.pop()"
   ]
  },
  {
   "cell_type": "code",
   "execution_count": 48,
   "id": "7eec919b",
   "metadata": {},
   "outputs": [
    {
     "data": {
      "text/plain": [
       "[1, 2, 3, 4]"
      ]
     },
     "execution_count": 48,
     "metadata": {},
     "output_type": "execute_result"
    }
   ],
   "source": [
    "lst"
   ]
  },
  {
   "cell_type": "code",
   "execution_count": 49,
   "id": "13d34c03",
   "metadata": {},
   "outputs": [
    {
     "data": {
      "text/plain": [
       "3"
      ]
     },
     "execution_count": 49,
     "metadata": {},
     "output_type": "execute_result"
    }
   ],
   "source": [
    "lst.pop(2)"
   ]
  },
  {
   "cell_type": "code",
   "execution_count": 50,
   "id": "71cfa992",
   "metadata": {},
   "outputs": [
    {
     "data": {
      "text/plain": [
       "[1, 2, 4]"
      ]
     },
     "execution_count": 50,
     "metadata": {},
     "output_type": "execute_result"
    }
   ],
   "source": [
    "lst"
   ]
  },
  {
   "cell_type": "markdown",
   "id": "8e8740aa",
   "metadata": {},
   "source": [
    "# count() :calcutes total occurrence of given element of list"
   ]
  },
  {
   "cell_type": "code",
   "execution_count": 51,
   "id": "10fc6d56",
   "metadata": {},
   "outputs": [],
   "source": [
    "lst=[\"k\",\"k\",\"j\",\"p\",\"y\",\"a\",\"a\",\"l\"]"
   ]
  },
  {
   "cell_type": "code",
   "execution_count": 52,
   "id": "77062e42",
   "metadata": {},
   "outputs": [
    {
     "data": {
      "text/plain": [
       "2"
      ]
     },
     "execution_count": 52,
     "metadata": {},
     "output_type": "execute_result"
    }
   ],
   "source": [
    "lst.count(\"a\")"
   ]
  },
  {
   "cell_type": "code",
   "execution_count": 53,
   "id": "4eacb024",
   "metadata": {},
   "outputs": [],
   "source": [
    "lst=[1,1,1,3,4,5,5,6,7,8,3,8,8,9,9]"
   ]
  },
  {
   "cell_type": "code",
   "execution_count": 54,
   "id": "6b8ff131",
   "metadata": {},
   "outputs": [
    {
     "data": {
      "text/plain": [
       "3"
      ]
     },
     "execution_count": 54,
     "metadata": {},
     "output_type": "execute_result"
    }
   ],
   "source": [
    "lst.count(1)"
   ]
  },
  {
   "cell_type": "code",
   "execution_count": 55,
   "id": "0fc2a850",
   "metadata": {},
   "outputs": [
    {
     "data": {
      "text/plain": [
       "15"
      ]
     },
     "execution_count": 55,
     "metadata": {},
     "output_type": "execute_result"
    }
   ],
   "source": [
    "len(lst)"
   ]
  },
  {
   "cell_type": "code",
   "execution_count": 56,
   "id": "ffb61564",
   "metadata": {},
   "outputs": [
    {
     "data": {
      "text/plain": [
       "3"
      ]
     },
     "execution_count": 56,
     "metadata": {},
     "output_type": "execute_result"
    }
   ],
   "source": [
    "# index() : Return the index of first occurrence. strat and end index are not necessary parameters\n",
    "lst.index(3)"
   ]
  },
  {
   "cell_type": "code",
   "execution_count": 59,
   "id": "f7a14aac",
   "metadata": {},
   "outputs": [
    {
     "data": {
      "text/plain": [
       "0"
      ]
     },
     "execution_count": 59,
     "metadata": {},
     "output_type": "execute_result"
    }
   ],
   "source": [
    "lst.index(1,0,4) # where 0 in starting point and 4 in the ending point \n"
   ]
  },
  {
   "cell_type": "code",
   "execution_count": 60,
   "id": "fabdf55a",
   "metadata": {},
   "outputs": [
    {
     "data": {
      "text/plain": [
       "1"
      ]
     },
     "execution_count": 60,
     "metadata": {},
     "output_type": "execute_result"
    }
   ],
   "source": [
    "min(lst)"
   ]
  },
  {
   "cell_type": "code",
   "execution_count": 61,
   "id": "ca2c71cc",
   "metadata": {},
   "outputs": [
    {
     "data": {
      "text/plain": [
       "9"
      ]
     },
     "execution_count": 61,
     "metadata": {},
     "output_type": "execute_result"
    }
   ],
   "source": [
    "max(lst)"
   ]
  },
  {
   "cell_type": "code",
   "execution_count": null,
   "id": "e7588f58",
   "metadata": {},
   "outputs": [],
   "source": []
  }
 ],
 "metadata": {
  "kernelspec": {
   "display_name": "Python 3 (ipykernel)",
   "language": "python",
   "name": "python3"
  },
  "language_info": {
   "codemirror_mode": {
    "name": "ipython",
    "version": 3
   },
   "file_extension": ".py",
   "mimetype": "text/x-python",
   "name": "python",
   "nbconvert_exporter": "python",
   "pygments_lexer": "ipython3",
   "version": "3.9.12"
  }
 },
 "nbformat": 4,
 "nbformat_minor": 5
}
