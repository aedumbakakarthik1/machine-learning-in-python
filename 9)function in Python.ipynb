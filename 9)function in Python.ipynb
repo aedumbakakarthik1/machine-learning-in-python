{
 "cells": [
  {
   "cell_type": "markdown",
   "id": "25389d01",
   "metadata": {},
   "source": [
    "# functions in Python\n",
    " - Why Functions\n",
    " - Function Definition \n",
    " - Positional And Keyword Arguments In Functions\n",
    " "
   ]
  },
  {
   "cell_type": "markdown",
   "id": "7f346efe",
   "metadata": {},
   "source": [
    "Some time we use the same code or same logic expression in different place in our code in that plavce we use the functions \n",
    "\n",
    "Yes, we can write so many times thatway we didn't get any error but as a programmer we need witre our cosde as reuseble so that we uses the function bu the function we save so munch of time ond our codde also tooks good "
   ]
  },
  {
   "cell_type": "code",
   "execution_count": 2,
   "id": "c20990b6",
   "metadata": {},
   "outputs": [
    {
     "name": "stdout",
     "output_type": "stream",
     "text": [
      "the number is even\n"
     ]
    }
   ],
   "source": [
    "num=26\n",
    "\n",
    "if num%2 == 0 :\n",
    "    print(\"the number is even\")\n",
    "else:\n",
    "    print(\"the number is odd\")\n"
   ]
  },
  {
   "cell_type": "code",
   "execution_count": 4,
   "id": "6ca04c61",
   "metadata": {},
   "outputs": [
    {
     "name": "stdout",
     "output_type": "stream",
     "text": [
      "the number is odd\n",
      "the number is even\n"
     ]
    }
   ],
   "source": [
    "def even_odd(num):\n",
    "    if num%2 ==0:\n",
    "        print(\"the number is even\")\n",
    "    else:\n",
    "        print(\"the number is odd\")\n",
    "even_odd(23)\n",
    "even_odd(66)"
   ]
  },
  {
   "cell_type": "code",
   "execution_count": 5,
   "id": "83dc31ae",
   "metadata": {},
   "outputs": [
    {
     "ename": "TypeError",
     "evalue": "even_odd() missing 1 required positional argument: 'num'",
     "output_type": "error",
     "traceback": [
      "\u001b[1;31m---------------------------------------------------------------------------\u001b[0m",
      "\u001b[1;31mTypeError\u001b[0m                                 Traceback (most recent call last)",
      "Input \u001b[1;32mIn [5]\u001b[0m, in \u001b[0;36m<cell line: 1>\u001b[1;34m()\u001b[0m\n\u001b[1;32m----> 1\u001b[0m \u001b[43meven_odd\u001b[49m\u001b[43m(\u001b[49m\u001b[43m)\u001b[49m\n",
      "\u001b[1;31mTypeError\u001b[0m: even_odd() missing 1 required positional argument: 'num'"
     ]
    }
   ],
   "source": [
    "even_odd()"
   ]
  },
  {
   "cell_type": "raw",
   "id": "a25378d7",
   "metadata": {},
   "source": [
    "TypeError: even_odd() missing 1 required positional argument: 'num'\n"
   ]
  },
  {
   "cell_type": "code",
   "execution_count": 7,
   "id": "cbe5e54b",
   "metadata": {},
   "outputs": [
    {
     "name": "stdout",
     "output_type": "stream",
     "text": [
      "hello welcome\n"
     ]
    }
   ],
   "source": [
    "# print vs return \n",
    "\n",
    "def hello_world():\n",
    "    print(\"hello welcome\")\n",
    "hello_world()"
   ]
  },
  {
   "cell_type": "code",
   "execution_count": 8,
   "id": "ab9420b2",
   "metadata": {},
   "outputs": [
    {
     "name": "stdout",
     "output_type": "stream",
     "text": [
      "hello welcome\n"
     ]
    }
   ],
   "source": [
    "# now lets us try to store the hello_world() function in var \n",
    "var=hello_world()"
   ]
  },
  {
   "cell_type": "code",
   "execution_count": 9,
   "id": "a9412334",
   "metadata": {},
   "outputs": [
    {
     "name": "stdout",
     "output_type": "stream",
     "text": [
      "None\n"
     ]
    }
   ],
   "source": [
    "print(var) "
   ]
  },
  {
   "cell_type": "markdown",
   "id": "44850f16",
   "metadata": {},
   "source": [
    "see we got **None**  that basically means that it just print put the value and not store the the value"
   ]
  },
  {
   "cell_type": "code",
   "execution_count": 10,
   "id": "dd8e48a2",
   "metadata": {},
   "outputs": [
    {
     "data": {
      "text/plain": [
       "'hello karthik'"
      ]
     },
     "execution_count": 10,
     "metadata": {},
     "output_type": "execute_result"
    }
   ],
   "source": [
    "# Now we use the return  function\n",
    "\n",
    "def hello_king():\n",
    "    return \"hello karthik\"\n",
    "hello_king()"
   ]
  },
  {
   "cell_type": "code",
   "execution_count": 11,
   "id": "eee4a9ea",
   "metadata": {},
   "outputs": [
    {
     "data": {
      "text/plain": [
       "'hello karthik'"
      ]
     },
     "execution_count": 11,
     "metadata": {},
     "output_type": "execute_result"
    }
   ],
   "source": [
    "st=hello_king()\n",
    "st"
   ]
  },
  {
   "cell_type": "markdown",
   "id": "dc5a3d66",
   "metadata": {},
   "source": [
    "see we got some value in output that means it not just printing the output it is also storing the value of the function "
   ]
  },
  {
   "cell_type": "code",
   "execution_count": 13,
   "id": "5c174a8e",
   "metadata": {},
   "outputs": [],
   "source": [
    "# now we will write another function of adding the two numbers\n",
    "def add_number(num1,num2):\n",
    "    return  num1+ num2\n",
    "var=add_number(45,90)"
   ]
  },
  {
   "cell_type": "code",
   "execution_count": 14,
   "id": "df98c6f7",
   "metadata": {},
   "outputs": [
    {
     "name": "stdout",
     "output_type": "stream",
     "text": [
      "135\n"
     ]
    }
   ],
   "source": [
    "print(var)"
   ]
  },
  {
   "cell_type": "markdown",
   "id": "1840c29a",
   "metadata": {},
   "source": [
    "# Positional And Keyword Arguments In Functions"
   ]
  },
  {
   "cell_type": "code",
   "execution_count": 15,
   "id": "42fdb55a",
   "metadata": {},
   "outputs": [
    {
     "name": "stdout",
     "output_type": "stream",
     "text": [
      "My name is karthik and age is 21\n"
     ]
    }
   ],
   "source": [
    "def hello(name,age=21):\n",
    "    print(\"My name is {} and age is {}\".format(name,age))\n",
    "hello(\"karthik\")"
   ]
  },
  {
   "cell_type": "code",
   "execution_count": 16,
   "id": "172c2c9d",
   "metadata": {},
   "outputs": [
    {
     "ename": "TypeError",
     "evalue": "hello() missing 1 required positional argument: 'name'",
     "output_type": "error",
     "traceback": [
      "\u001b[1;31m---------------------------------------------------------------------------\u001b[0m",
      "\u001b[1;31mTypeError\u001b[0m                                 Traceback (most recent call last)",
      "Input \u001b[1;32mIn [16]\u001b[0m, in \u001b[0;36m<cell line: 1>\u001b[1;34m()\u001b[0m\n\u001b[1;32m----> 1\u001b[0m \u001b[43mhello\u001b[49m\u001b[43m(\u001b[49m\u001b[43m)\u001b[49m\n",
      "\u001b[1;31mTypeError\u001b[0m: hello() missing 1 required positional argument: 'name'"
     ]
    }
   ],
   "source": [
    "hello()"
   ]
  },
  {
   "cell_type": "markdown",
   "id": "4a177237",
   "metadata": {},
   "source": [
    "TypeError: hello() missing 1 required positional argument: 'name'\n",
    "\n",
    "now see the error we got it is **positional argument error**"
   ]
  },
  {
   "cell_type": "raw",
   "id": "a0fd2522",
   "metadata": {},
   "source": [
    "from above error we can know that age is keyword Argument and positional Argument is name \n",
    "because if we didnot give the value of the name(in this function) we we canot tell that is the value of the name \n",
    "and here age value was in key value pairs"
   ]
  },
  {
   "cell_type": "code",
   "execution_count": 17,
   "id": "106d9138",
   "metadata": {},
   "outputs": [
    {
     "name": "stdout",
     "output_type": "stream",
     "text": [
      "('karthik', 'keerthi')\n",
      "{'karthik_age': 21, 'keerthi_age': 22}\n"
     ]
    }
   ],
   "source": [
    "def hello(*args,**kwargs):\n",
    "    print(args)\n",
    "    print(kwargs)\n",
    "hello(\"karthik\",\"keerthi\",karthik_age=21,keerthi_age=22)\n",
    "    "
   ]
  },
  {
   "cell_type": "markdown",
   "id": "acfa9689",
   "metadata": {},
   "source": [
    "where * in know for positional argument where as ** is denote as keyword arguments "
   ]
  },
  {
   "cell_type": "code",
   "execution_count": 18,
   "id": "e52c40f8",
   "metadata": {},
   "outputs": [],
   "source": [
    "lst=['karthik', 'keerthi']\n",
    "dic_args={'karthik_age': 21, 'keerthi_age': 22}"
   ]
  },
  {
   "cell_type": "code",
   "execution_count": 19,
   "id": "f3b1f5fa",
   "metadata": {},
   "outputs": [
    {
     "name": "stdout",
     "output_type": "stream",
     "text": [
      "(['karthik', 'keerthi'], {'karthik_age': 21, 'keerthi_age': 22})\n",
      "{}\n"
     ]
    }
   ],
   "source": [
    "hello(lst,dic_args)"
   ]
  },
  {
   "cell_type": "code",
   "execution_count": 20,
   "id": "30e3d850",
   "metadata": {},
   "outputs": [
    {
     "name": "stdout",
     "output_type": "stream",
     "text": [
      "('karthik', 'keerthi')\n",
      "{'karthik_age': 21, 'keerthi_age': 22}\n"
     ]
    }
   ],
   "source": [
    "hello(*lst,**dic_args)"
   ]
  },
  {
   "cell_type": "code",
   "execution_count": 21,
   "id": "f3a8a3a0",
   "metadata": {},
   "outputs": [
    {
     "data": {
      "text/plain": [
       "'the odd number is 25 and even number is 20'"
      ]
     },
     "execution_count": 21,
     "metadata": {},
     "output_type": "execute_result"
    }
   ],
   "source": [
    "lsts=[1,2,3,4,5,6,7,8,9]\n",
    "\n",
    "def odd_and_even(lsts):\n",
    "    odd_num=0\n",
    "    even_num=0\n",
    "    for i in lsts:\n",
    "        if i%2==0:\n",
    "            even_num+=i\n",
    "        else:\n",
    "            odd_num+=i\n",
    "    return \"the odd number is {} and even number is {}\".format(odd_num,even_num)\n",
    "odd_and_even(lsts)"
   ]
  },
  {
   "cell_type": "code",
   "execution_count": null,
   "id": "9ae70f1b",
   "metadata": {},
   "outputs": [],
   "source": []
  }
 ],
 "metadata": {
  "kernelspec": {
   "display_name": "Python 3 (ipykernel)",
   "language": "python",
   "name": "python3"
  },
  "language_info": {
   "codemirror_mode": {
    "name": "ipython",
    "version": 3
   },
   "file_extension": ".py",
   "mimetype": "text/x-python",
   "name": "python",
   "nbconvert_exporter": "python",
   "pygments_lexer": "ipython3",
   "version": "3.9.12"
  }
 },
 "nbformat": 4,
 "nbformat_minor": 5
}
