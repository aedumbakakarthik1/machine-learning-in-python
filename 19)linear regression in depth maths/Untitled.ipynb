{
 "cells": [
  {
   "cell_type": "markdown",
   "id": "9fa37211",
   "metadata": {},
   "source": [
    "# linear regression "
   ]
  },
  {
   "cell_type": "markdown",
   "id": "c7e89c09",
   "metadata": {},
   "source": [
    "<font color=\"red\">Regression</font>\n",
    "<br>\n",
    "regression analayis is a from of predictive modeling techniques which investigates the relationship between a dependent and indepentened variable\n",
    "\n",
    "A resgression analysis involves graphing aline over od set os data points that must  closely fits the overall shape of the data or regression show the change the in a depnted value on y-axis and the change of explanatory variable of x=-axis\n",
    "\n",
    "<font color=\"red\">The users of Regression</font>\n",
    "<br>\n",
    "The three major user of regression analysis \n",
    "They are\n",
    "- Determining the strenght of predictors\n",
    "- forecasting an effect , and\n",
    "- trend forcasting\n"
   ]
  },
  {
   "cell_type": "markdown",
   "id": "5a8ff721",
   "metadata": {},
   "source": [
    "<font color=\"red\">Linear Regression</font>\n",
    "<br>\n",
    "<font color=\"blue\">selection criteria </font>\n",
    "- classification and regression capabilities Regression model predict the continuous variable such as the sales mode on a day in  a shop or predicit the temperature of city their reliance on a polynomial like a straight line to fit a data set pases a real challenge when it come towords building a classification capability \n",
    "\n",
    "***let imagine that you fit a line with the train points that you have to imaginr you add some more data points to it . but in order to fit it we need to change the model or you have to change thr existing model . That you have to cahnge the threshold itself.So this will happen with each new data point that you add into the model . Hence the linear regression is not good for classfication model ***\n",
    "- Data Quality\n",
    "- computational Complexity(it take Obig(n))\n",
    "- Comprehensive and transparency "
   ]
  },
  {
   "cell_type": "code",
   "execution_count": null,
   "id": "3d0632d0",
   "metadata": {},
   "outputs": [],
   "source": []
  },
  {
   "cell_type": "code",
   "execution_count": null,
   "id": "8be99379",
   "metadata": {},
   "outputs": [],
   "source": []
  }
 ],
 "metadata": {
  "kernelspec": {
   "display_name": "Python 3 (ipykernel)",
   "language": "python",
   "name": "python3"
  },
  "language_info": {
   "codemirror_mode": {
    "name": "ipython",
    "version": 3
   },
   "file_extension": ".py",
   "mimetype": "text/x-python",
   "name": "python",
   "nbconvert_exporter": "python",
   "pygments_lexer": "ipython3",
   "version": "3.9.12"
  }
 },
 "nbformat": 4,
 "nbformat_minor": 5
}
