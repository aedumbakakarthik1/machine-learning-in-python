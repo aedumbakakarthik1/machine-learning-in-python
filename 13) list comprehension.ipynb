{
 "cells": [
  {
   "cell_type": "markdown",
   "id": "91c0a8d7",
   "metadata": {},
   "source": [
    "# List Comprehension\n",
    "\n",
    "List comprehension provide a concise way to create lists. it consists of bracketes containing an expression follwed by a for clase , the zero or more for or if clause . The expression can be anything , meaning you can put in all kinds of object in lists."
   ]
  },
  {
   "cell_type": "code",
   "execution_count": 3,
   "id": "58ffa52d",
   "metadata": {},
   "outputs": [
    {
     "data": {
      "text/plain": [
       "[1, 4, 9, 16, 25, 36, 49, 64, 81, 0, 0]"
      ]
     },
     "execution_count": 3,
     "metadata": {},
     "output_type": "execute_result"
    }
   ],
   "source": [
    "list1=[]\n",
    "def list(lis):\n",
    "    for i in lis:\n",
    "        list1.append(i*i)\n",
    "    return list1\n",
    "list([1,2,3,4,5,6,7,8,9,0,0])        "
   ]
  },
  {
   "cell_type": "code",
   "execution_count": 9,
   "id": "d64f84e1",
   "metadata": {},
   "outputs": [
    {
     "data": {
      "text/plain": [
       "[1, 4, 1849, 36, 64, 16]"
      ]
     },
     "execution_count": 9,
     "metadata": {},
     "output_type": "execute_result"
    }
   ],
   "source": [
    "list=[1,2,43,6,8,4]\n",
    "# List Comprehension\n",
    "[i*i for i in list ]"
   ]
  },
  {
   "cell_type": "code",
   "execution_count": 7,
   "id": "6ae554ad",
   "metadata": {},
   "outputs": [
    {
     "data": {
      "text/plain": [
       "[1, 4, 1849, 36, 64, 16]"
      ]
     },
     "execution_count": 7,
     "metadata": {},
     "output_type": "execute_result"
    }
   ],
   "source": [
    "list1=[i*i for i in list ]\n",
    "list1"
   ]
  },
  {
   "cell_type": "code",
   "execution_count": 8,
   "id": "d87dd992",
   "metadata": {},
   "outputs": [
    {
     "data": {
      "text/plain": [
       "[2, 6, 8, 4]"
      ]
     },
     "execution_count": 8,
     "metadata": {},
     "output_type": "execute_result"
    }
   ],
   "source": [
    " # if we want to use the if condition \n",
    "[i for i in list if i%2==0 ]"
   ]
  },
  {
   "cell_type": "code",
   "execution_count": null,
   "id": "d70815f7",
   "metadata": {},
   "outputs": [],
   "source": []
  }
 ],
 "metadata": {
  "kernelspec": {
   "display_name": "Python 3 (ipykernel)",
   "language": "python",
   "name": "python3"
  },
  "language_info": {
   "codemirror_mode": {
    "name": "ipython",
    "version": 3
   },
   "file_extension": ".py",
   "mimetype": "text/x-python",
   "name": "python",
   "nbconvert_exporter": "python",
   "pygments_lexer": "ipython3",
   "version": "3.9.12"
  }
 },
 "nbformat": 4,
 "nbformat_minor": 5
}
