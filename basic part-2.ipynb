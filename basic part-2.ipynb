{
 "cells": [
  {
   "cell_type": "markdown",
   "id": "93118ba3",
   "metadata": {},
   "source": [
    "# python data stuctures and boolean\n",
    "\n",
    "### . Boolean\n",
    "## . boolean and logial operators\n",
    "## . list \n",
    "## . comparison operators\n",
    "## . dicitonaries\n",
    "## . sets\n",
    "## . tuples\n",
    "\n"
   ]
  },
  {
   "cell_type": "code",
   "execution_count": 1,
   "id": "eebd9868",
   "metadata": {},
   "outputs": [],
   "source": [
    "## booean variables"
   ]
  },
  {
   "cell_type": "raw",
   "id": "11fc760b",
   "metadata": {},
   "source": [
    " Boolean values are the two constant object False and True\n",
    " \n",
    " They are used to represent truth values (other values can also be considered false and true)\n",
    " \n",
    " In numeric contexts (for example, when used as the argumnt to an arithmetic operator ), they behave like intergers 0 and 1 , respectively\n",
    " \n",
    " the built-in function bool() can used to cast value to Boolearn , if the values can br interpreted as a truth value"
   ]
  },
  {
   "cell_type": "code",
   "execution_count": 1,
   "id": "6c8384ab",
   "metadata": {},
   "outputs": [
    {
     "data": {
      "text/plain": [
       "False"
      ]
     },
     "execution_count": 1,
     "metadata": {},
     "output_type": "execute_result"
    }
   ],
   "source": [
    "False\n"
   ]
  },
  {
   "cell_type": "code",
   "execution_count": 2,
   "id": "8e9779da",
   "metadata": {},
   "outputs": [
    {
     "data": {
      "text/plain": [
       "bool"
      ]
     },
     "execution_count": 2,
     "metadata": {},
     "output_type": "execute_result"
    }
   ],
   "source": [
    "type(True)"
   ]
  },
  {
   "cell_type": "code",
   "execution_count": 12,
   "id": "c0da2423",
   "metadata": {},
   "outputs": [],
   "source": [
    "my_str=\"karthik aedumbaka\""
   ]
  },
  {
   "cell_type": "code",
   "execution_count": 13,
   "id": "5a3560dc",
   "metadata": {},
   "outputs": [
    {
     "data": {
      "text/plain": [
       "b'karthik aedumbaka'"
      ]
     },
     "execution_count": 13,
     "metadata": {},
     "output_type": "execute_result"
    }
   ],
   "source": [
    "my_str.encode()"
   ]
  },
  {
   "cell_type": "code",
   "execution_count": 14,
   "id": "e6122c66",
   "metadata": {},
   "outputs": [
    {
     "name": "stdout",
     "output_type": "stream",
     "text": [
      "karthik aedumbaka\n"
     ]
    }
   ],
   "source": [
    "print(my_str)"
   ]
  },
  {
   "cell_type": "code",
   "execution_count": 16,
   "id": "5914251b",
   "metadata": {},
   "outputs": [
    {
     "name": "stdout",
     "output_type": "stream",
     "text": [
      "False\n",
      "False\n",
      "False\n",
      "False\n",
      "False\n",
      "True\n",
      "False\n",
      "True\n",
      "True\n"
     ]
    }
   ],
   "source": [
    "print(my_str.isalnum())   #check if all char are numbers\n",
    "print(my_str.isalpha())  #check if all char in the string are alphabetic\n",
    "print(my_str.isdigit())   #test if string contains digits\n",
    "print(my_str.istitle())   #test if string contaains title word\n",
    "print(my_str.isupper())   #test if contains upper caase\n",
    "print(my_str.islower())   #test if string contains the lower case\n",
    "print(my_str.isspace())    #test if string contains space\n",
    "print(my_str.endswith(\"a\"))  #test is string ends with letter \"a\"\n",
    "print(my_str.startswith(\"k\")) #test if string starts with letter \"k\""
   ]
  },
  {
   "cell_type": "markdown",
   "id": "e3fa22a7",
   "metadata": {},
   "source": [
    "# Boolean and logical operators"
   ]
  },
  {
   "cell_type": "code",
   "execution_count": 17,
   "id": "4409133e",
   "metadata": {},
   "outputs": [
    {
     "data": {
      "text/plain": [
       "True"
      ]
     },
     "execution_count": 17,
     "metadata": {},
     "output_type": "execute_result"
    }
   ],
   "source": [
    "True and True"
   ]
  },
  {
   "cell_type": "code",
   "execution_count": 18,
   "id": "86561e8e",
   "metadata": {},
   "outputs": [
    {
     "data": {
      "text/plain": [
       "False"
      ]
     },
     "execution_count": 18,
     "metadata": {},
     "output_type": "execute_result"
    }
   ],
   "source": [
    "True and False"
   ]
  },
  {
   "cell_type": "code",
   "execution_count": 19,
   "id": "17dc7a19",
   "metadata": {},
   "outputs": [
    {
     "data": {
      "text/plain": [
       "True"
      ]
     },
     "execution_count": 19,
     "metadata": {},
     "output_type": "execute_result"
    }
   ],
   "source": [
    "True or False"
   ]
  },
  {
   "cell_type": "code",
   "execution_count": 23,
   "id": "ba410ae9",
   "metadata": {},
   "outputs": [
    {
     "data": {
      "text/plain": [
       "-1"
      ]
     },
     "execution_count": 23,
     "metadata": {},
     "output_type": "execute_result"
    }
   ],
   "source": [
    "~(True and False)"
   ]
  },
  {
   "cell_type": "code",
   "execution_count": 24,
   "id": "c664b758",
   "metadata": {},
   "outputs": [],
   "source": [
    "first_name=\"karthik\"\n",
    "last_name =\"aedumbaka\"\n"
   ]
  },
  {
   "cell_type": "code",
   "execution_count": 25,
   "id": "1a0163fb",
   "metadata": {},
   "outputs": [
    {
     "data": {
      "text/plain": [
       "True"
      ]
     },
     "execution_count": 25,
     "metadata": {},
     "output_type": "execute_result"
    }
   ],
   "source": [
    "first_name.isalpha() or last_name.isnum()"
   ]
  },
  {
   "cell_type": "markdown",
   "id": "91c1e01d",
   "metadata": {},
   "source": [
    "# list"
   ]
  },
  {
   "cell_type": "raw",
   "id": "1dde7a73",
   "metadata": {},
   "source": [
    "A list is a data structure in Python that is a mutable , or changeable , ordered squence of elements. Eash element or value that inside of the list is called an item . Just as wtring are defined as characters between quates, list are defined by defined by having values between square brackets []"
   ]
  },
  {
   "cell_type": "code",
   "execution_count": 28,
   "id": "a1d4f3a2",
   "metadata": {},
   "outputs": [],
   "source": [
    "lst_exp=[]"
   ]
  },
  {
   "cell_type": "code",
   "execution_count": 29,
   "id": "e28aa24d",
   "metadata": {},
   "outputs": [
    {
     "data": {
      "text/plain": [
       "list"
      ]
     },
     "execution_count": 29,
     "metadata": {},
     "output_type": "execute_result"
    }
   ],
   "source": [
    "type(lst_exp)"
   ]
  },
  {
   "cell_type": "code",
   "execution_count": 30,
   "id": "85939e54",
   "metadata": {},
   "outputs": [
    {
     "data": {
      "text/plain": [
       "list"
      ]
     },
     "execution_count": 30,
     "metadata": {},
     "output_type": "execute_result"
    }
   ],
   "source": [
    "lst=list()\n",
    "type(lst)"
   ]
  },
  {
   "cell_type": "code",
   "execution_count": 31,
   "id": "1607ab61",
   "metadata": {},
   "outputs": [],
   "source": [
    "lst=[\"maths\",\"chemistry \",\"karthik\",\"ml\",11334,6543]"
   ]
  },
  {
   "cell_type": "code",
   "execution_count": 32,
   "id": "d472f99a",
   "metadata": {},
   "outputs": [
    {
     "data": {
      "text/plain": [
       "6"
      ]
     },
     "execution_count": 32,
     "metadata": {},
     "output_type": "execute_result"
    }
   ],
   "source": [
    "len(lst)"
   ]
  },
  {
   "cell_type": "markdown",
   "id": "3a3ad2c3",
   "metadata": {},
   "source": [
    "# append"
   ]
  },
  {
   "cell_type": "code",
   "execution_count": 33,
   "id": "00222df7",
   "metadata": {},
   "outputs": [],
   "source": [
    "#append is used add element in the list\n",
    "lst.append(\"balaji\")"
   ]
  },
  {
   "cell_type": "code",
   "execution_count": null,
   "id": "b5b5d12b",
   "metadata": {},
   "outputs": [],
   "source": []
  },
  {
   "cell_type": "code",
   "execution_count": 35,
   "id": "fec4fb29",
   "metadata": {},
   "outputs": [
    {
     "data": {
      "text/plain": [
       "'ml'"
      ]
     },
     "execution_count": 35,
     "metadata": {},
     "output_type": "execute_result"
    }
   ],
   "source": [
    "#indexing in list\n",
    "lst[3]"
   ]
  },
  {
   "cell_type": "code",
   "execution_count": 36,
   "id": "296083f8",
   "metadata": {},
   "outputs": [
    {
     "data": {
      "text/plain": [
       "['karthik', 'ml', 11334, 6543, 'balaji']"
      ]
     },
     "execution_count": 36,
     "metadata": {},
     "output_type": "execute_result"
    }
   ],
   "source": [
    "lst[2:]"
   ]
  },
  {
   "cell_type": "code",
   "execution_count": null,
   "id": "69b34a2b",
   "metadata": {},
   "outputs": [],
   "source": []
  },
  {
   "cell_type": "code",
   "execution_count": 34,
   "id": "6154a0d0",
   "metadata": {},
   "outputs": [
    {
     "data": {
      "text/plain": [
       "['maths', 'chemistry ', 'karthik', 'ml', 11334, 6543, 'balaji']"
      ]
     },
     "execution_count": 34,
     "metadata": {},
     "output_type": "execute_result"
    }
   ],
   "source": [
    "lst"
   ]
  },
  {
   "cell_type": "code",
   "execution_count": 38,
   "id": "43f80d67",
   "metadata": {},
   "outputs": [
    {
     "data": {
      "text/plain": [
       "['maths',\n",
       " 'chemistry ',\n",
       " 'karthik',\n",
       " 'ml',\n",
       " 11334,\n",
       " 6543,\n",
       " 'balaji',\n",
       " ['narayana', 'kgf'],\n",
       " ['narayana', 'kgf']]"
      ]
     },
     "execution_count": 38,
     "metadata": {},
     "output_type": "execute_result"
    }
   ],
   "source": [
    "lst.append([\"narayana\",\"kgf\"])\n",
    "\n",
    "lst.append([\"narayana\",\"kgf\"])\n",
    "lst"
   ]
  },
  {
   "cell_type": "code",
   "execution_count": null,
   "id": "61d469e2",
   "metadata": {},
   "outputs": [],
   "source": []
  },
  {
   "cell_type": "markdown",
   "id": "dfb3671e",
   "metadata": {},
   "source": [
    "# insert"
   ]
  },
  {
   "cell_type": "code",
   "execution_count": 39,
   "id": "4b7272ef",
   "metadata": {},
   "outputs": [],
   "source": [
    "# insert in a specific order\n",
    "lst.insert(3,\"pandi\")"
   ]
  },
  {
   "cell_type": "code",
   "execution_count": 40,
   "id": "3b69d4ee",
   "metadata": {},
   "outputs": [
    {
     "data": {
      "text/plain": [
       "['maths',\n",
       " 'chemistry ',\n",
       " 'karthik',\n",
       " 'pandi',\n",
       " 'ml',\n",
       " 11334,\n",
       " 6543,\n",
       " 'balaji',\n",
       " ['narayana', 'kgf'],\n",
       " ['narayana', 'kgf']]"
      ]
     },
     "execution_count": 40,
     "metadata": {},
     "output_type": "execute_result"
    }
   ],
   "source": [
    "lst"
   ]
  },
  {
   "cell_type": "markdown",
   "id": "1e800318",
   "metadata": {},
   "source": [
    "# Extend Method"
   ]
  },
  {
   "cell_type": "code",
   "execution_count": 41,
   "id": "2b99f50b",
   "metadata": {},
   "outputs": [],
   "source": [
    "lst=[1,2,3,4,5,6,7,8,9]"
   ]
  },
  {
   "cell_type": "code",
   "execution_count": 42,
   "id": "dafafa99",
   "metadata": {},
   "outputs": [],
   "source": [
    "lst.extend([11,44])"
   ]
  },
  {
   "cell_type": "code",
   "execution_count": 43,
   "id": "727e98a9",
   "metadata": {},
   "outputs": [
    {
     "data": {
      "text/plain": [
       "[1, 2, 3, 4, 5, 6, 7, 8, 9, 11, 44]"
      ]
     },
     "execution_count": 43,
     "metadata": {},
     "output_type": "execute_result"
    }
   ],
   "source": [
    "lst"
   ]
  },
  {
   "cell_type": "markdown",
   "id": "aabda1af",
   "metadata": {},
   "source": [
    "# Varoius Operations that we can perfrom in list"
   ]
  },
  {
   "cell_type": "code",
   "execution_count": 44,
   "id": "7c779be5",
   "metadata": {},
   "outputs": [],
   "source": [
    "lst=[1,2,3,4,5]"
   ]
  },
  {
   "cell_type": "code",
   "execution_count": 45,
   "id": "252eab71",
   "metadata": {},
   "outputs": [
    {
     "data": {
      "text/plain": [
       "15"
      ]
     },
     "execution_count": 45,
     "metadata": {},
     "output_type": "execute_result"
    }
   ],
   "source": [
    "sum(lst)"
   ]
  },
  {
   "cell_type": "markdown",
   "id": "0afa2215",
   "metadata": {},
   "source": [
    "# Pop() Method"
   ]
  },
  {
   "cell_type": "code",
   "execution_count": 47,
   "id": "d45156a7",
   "metadata": {},
   "outputs": [
    {
     "data": {
      "text/plain": [
       "5"
      ]
     },
     "execution_count": 47,
     "metadata": {},
     "output_type": "execute_result"
    }
   ],
   "source": [
    "lst.pop()"
   ]
  },
  {
   "cell_type": "code",
   "execution_count": 48,
   "id": "9705307e",
   "metadata": {},
   "outputs": [
    {
     "data": {
      "text/plain": [
       "[1, 2, 3, 4]"
      ]
     },
     "execution_count": 48,
     "metadata": {},
     "output_type": "execute_result"
    }
   ],
   "source": [
    "lst"
   ]
  },
  {
   "cell_type": "code",
   "execution_count": 49,
   "id": "51526f58",
   "metadata": {},
   "outputs": [
    {
     "data": {
      "text/plain": [
       "3"
      ]
     },
     "execution_count": 49,
     "metadata": {},
     "output_type": "execute_result"
    }
   ],
   "source": [
    "lst.pop(2)"
   ]
  },
  {
   "cell_type": "code",
   "execution_count": 50,
   "id": "8dd8ebf9",
   "metadata": {},
   "outputs": [
    {
     "data": {
      "text/plain": [
       "[1, 2, 4]"
      ]
     },
     "execution_count": 50,
     "metadata": {},
     "output_type": "execute_result"
    }
   ],
   "source": [
    "lst"
   ]
  },
  {
   "cell_type": "markdown",
   "id": "cdbd5f78",
   "metadata": {},
   "source": [
    "# count() :calcutes total occurrence of given element of list"
   ]
  },
  {
   "cell_type": "code",
   "execution_count": 51,
   "id": "0c8b8d04",
   "metadata": {},
   "outputs": [],
   "source": [
    "lst=[\"k\",\"k\",\"j\",\"p\",\"y\",\"a\",\"a\",\"l\"]"
   ]
  },
  {
   "cell_type": "code",
   "execution_count": 52,
   "id": "3b53d3c0",
   "metadata": {},
   "outputs": [
    {
     "data": {
      "text/plain": [
       "2"
      ]
     },
     "execution_count": 52,
     "metadata": {},
     "output_type": "execute_result"
    }
   ],
   "source": [
    "lst.count(\"a\")"
   ]
  },
  {
   "cell_type": "code",
   "execution_count": 53,
   "id": "91367817",
   "metadata": {},
   "outputs": [],
   "source": [
    "lst=[1,1,1,3,4,5,5,6,7,8,3,8,8,9,9]"
   ]
  },
  {
   "cell_type": "code",
   "execution_count": 54,
   "id": "2905cd08",
   "metadata": {},
   "outputs": [
    {
     "data": {
      "text/plain": [
       "3"
      ]
     },
     "execution_count": 54,
     "metadata": {},
     "output_type": "execute_result"
    }
   ],
   "source": [
    "lst.count(1)"
   ]
  },
  {
   "cell_type": "code",
   "execution_count": 55,
   "id": "d4f2c7ab",
   "metadata": {},
   "outputs": [
    {
     "data": {
      "text/plain": [
       "15"
      ]
     },
     "execution_count": 55,
     "metadata": {},
     "output_type": "execute_result"
    }
   ],
   "source": [
    "len(lst)"
   ]
  },
  {
   "cell_type": "code",
   "execution_count": 56,
   "id": "ed5fdd68",
   "metadata": {},
   "outputs": [
    {
     "data": {
      "text/plain": [
       "3"
      ]
     },
     "execution_count": 56,
     "metadata": {},
     "output_type": "execute_result"
    }
   ],
   "source": [
    "# index() : Return the index of first occurrence. strat and end index are not necessary parameters\n",
    "lst.index(3)"
   ]
  },
  {
   "cell_type": "code",
   "execution_count": 58,
   "id": "37ba493d",
   "metadata": {},
   "outputs": [
    {
     "data": {
      "text/plain": [
       "0"
      ]
     },
     "execution_count": 58,
     "metadata": {},
     "output_type": "execute_result"
    }
   ],
   "source": [
    "lst.index(1,0,4) # whrer \n"
   ]
  },
  {
   "cell_type": "code",
   "execution_count": null,
   "id": "8bf7c50f",
   "metadata": {},
   "outputs": [],
   "source": []
  }
 ],
 "metadata": {
  "kernelspec": {
   "display_name": "Python 3 (ipykernel)",
   "language": "python",
   "name": "python3"
  },
  "language_info": {
   "codemirror_mode": {
    "name": "ipython",
    "version": 3
   },
   "file_extension": ".py",
   "mimetype": "text/x-python",
   "name": "python",
   "nbconvert_exporter": "python",
   "pygments_lexer": "ipython3",
   "version": "3.9.12"
  }
 },
 "nbformat": 4,
 "nbformat_minor": 5
}
