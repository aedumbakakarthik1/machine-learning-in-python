{
 "cells": [
  {
   "cell_type": "markdown",
   "id": "e2f5590d",
   "metadata": {},
   "source": [
    "# univartiate , bivartiate and mutivartiate analysis (EDA)\n"
   ]
  },
  {
   "cell_type": "raw",
   "id": "2698dfa3",
   "metadata": {},
   "source": [
    "this is basics step in machine learning that our data we was is univartiat , bivartiate and mutivartuate analysis or not \n",
    "\n",
    "for example if we take a data like below\n",
    "height  weight   o/p\n",
    "180 cm   90    obese \n",
    "160      56     slim\n",
    "179      78      fit\n",
    "190      90      fit\n",
    "175      80     slim"
   ]
  },
  {
   "cell_type": "markdown",
   "id": "55ce7382",
   "metadata": {},
   "source": [
    "# univartiate analysis\n",
    "-in univariate we take one feature and try to get the output it is use to crate histogram graph 📊  \n",
    "\n",
    "- **note**\n",
    "this graph (or) points we not come in real time problem some times it may be overlap so that because of taking one feature we canot classify on model with this \n",
    "so we are try to use are understand about the **bivartiate or mutivartiate analysis**\n"
   ]
  },
  {
   "cell_type": "markdown",
   "id": "fb487eb2",
   "metadata": {},
   "source": [
    "# bivartiate   analysis¶\n",
    "\n",
    "In bivariate analysis we take two feature and we try to get the output\n",
    "- in y axis we take one feature and in x axis we take another featue and we will plot the output \n",
    "\n",
    " **now** what happen if we have 3 are more features like if we have 1 feature we use histogram if we have 2 feature we use the 2 d graph . ok we have 3 features we use 3d diagram what about 4 feature we cannot draw the 4d digram rigth so use mutivartiate analysis using seabron\n",
    " "
   ]
  },
  {
   "cell_type": "markdown",
   "id": "8fbab3ff",
   "metadata": {},
   "source": [
    "# mutivartiate analysis "
   ]
  },
  {
   "cell_type": "markdown",
   "id": "b6261214",
   "metadata": {},
   "source": [
    "Here in mutivartiate analysis we use seaborn fuction called **pairplot** to dram the graphs\n",
    "- in that graph leads to correction between the features "
   ]
  },
  {
   "cell_type": "code",
   "execution_count": null,
   "id": "023c4daf",
   "metadata": {},
   "outputs": [],
   "source": []
  }
 ],
 "metadata": {
  "kernelspec": {
   "display_name": "Python 3 (ipykernel)",
   "language": "python",
   "name": "python3"
  },
  "language_info": {
   "codemirror_mode": {
    "name": "ipython",
    "version": 3
   },
   "file_extension": ".py",
   "mimetype": "text/x-python",
   "name": "python",
   "nbconvert_exporter": "python",
   "pygments_lexer": "ipython3",
   "version": "3.9.12"
  }
 },
 "nbformat": 4,
 "nbformat_minor": 5
}
